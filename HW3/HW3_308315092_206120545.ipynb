{
 "cells": [
  {
   "cell_type": "markdown",
   "metadata": {},
   "source": [
    "# Algorithms and Applications in Social Networks\n",
    "## Homework 3\n",
    "### Ido Lerer 206120545, Offek Gil 308315092"
   ]
  },
  {
   "cell_type": "markdown",
   "metadata": {},
   "source": [
    "## Question 1\n",
    "___"
   ]
  },
  {
   "cell_type": "markdown",
   "metadata": {},
   "source": [
    "### 1.a\n",
    "The complete graph of $3N$ nodes has $\\frac{3N\\cdot(3N-1)}{2}$ edges. After the restructure there are 3 complete graphs of $N$ nodes, each one with $\\frac{N\\cdot(N-1)}{2}$ edges. Subtracting the two, we get: $$\\frac{3N\\cdot(3N-1)}{2}-3\\cdot\\frac{N\\cdot(N-1)}{2}=3N^2$$ Meaning $3N^2$ connections were removed."
   ]
  },
  {
   "cell_type": "markdown",
   "metadata": {},
   "source": [
    "### 1.b\n",
    "The clustering coefficient didn't change. The original graph was the complete graph, so it had a clustering coefficient of 1 (for every node, every neighbor was connected to all the other neighbors). After the change, the graph comprises 3 complete graphs. since the clustering coefficient of each node is only calculated using the connections between its neighbors, the fact that there are other nodes not connected to it doesn't affect it. Each node's clustering coefficient is still 1, so the graph's clustering coefficient (the average of its nodes) is still 1."
   ]
  },
  {
   "cell_type": "markdown",
   "metadata": {},
   "source": [
    "### 1.c\n",
    "The degree centrallity of a node is the number of its neighbors (its degree). In the original graph the degree centrallity of every node was $3N-1$, so the average degree centrallity was $3N-1$. After the change, the degree centrallity of each node is $N-1$, so the avarage degree centrallity is $N-1$, and the overall change in the average is: $$(3N-1)-(N-1)=2N$$"
   ]
  },
  {
   "cell_type": "markdown",
   "metadata": {},
   "source": [
    "## Question 2\n",
    "___"
   ]
  },
  {
   "cell_type": "markdown",
   "metadata": {},
   "source": [
    "### 2.a\n",
    "The missing edges in the graph are $(A,E)(A,F)(B,D)(B,F)(C,D)(C,E)(C,F)(E,F)$. Calculating the score for each one we get:\n",
    "\n",
    "**Common Neighbors:**\n",
    "- (A,E) - 2\n",
    "- (A,F) - 1\n",
    "- (B,D) - 2\n",
    "- (B,F) - 0\n",
    "- (C,D) - 1\n",
    "- (C,E) - 1\n",
    "- (C,F) - 0\n",
    "- (E,F) - 1\n",
    "\n",
    "The 3 edges that has the heighest chance of being created according to common neighbors are (A,E),(B,D),(A,F) - or any other pair with score of 1 other than (A,F).\n",
    "\n",
    "**Preferential Attachment:**\n",
    "- (A,E) - 6\n",
    "- (A,F) - 3\n",
    "- (B,D) - 9 \n",
    "- (B,F) - 3 \n",
    "- (C,D) - 6\n",
    "- (C,E) - 4\n",
    "- (C,F) - 2\n",
    "- (E,F) - 2\n",
    "\n",
    "The 3 edges that have the heighest chance of being created according to preferential attachment are (B,D),(A,E),(C,D)."
   ]
  },
  {
   "cell_type": "markdown",
   "metadata": {},
   "source": [
    "### 2.b\n",
    "Using both heuristics we get that the edges (A,E) and (B,D) are very likely to be added, since these nodes have alot of neighbors and they are shared betweem them. However, we can see that using preferential attachment some nodes that don't share a lot of neighbors are still very likely to connect, just because one of them has already lots of neighbors. That is why (C,D) for example is much more likely to be added using the second heuristic."
   ]
  },
  {
   "cell_type": "markdown",
   "metadata": {},
   "source": [
    "## Question 3\n",
    "___"
   ]
  },
  {
   "cell_type": "markdown",
   "metadata": {},
   "source": [
    "We'll find the amount of nodes that become active from activating each of the nodes. The node activating the most is the most influential according to the linear threashold model.\n",
    "- A: {A} -> {A,D} -> {A,D,E}\n",
    "- B: {B}\n",
    "- C: {C} -> {C,E,F} -> {C,B,E,F}\n",
    "- D: {D} -> {D,E}\n",
    "- E: {E}\n",
    "- F: {F} -> {B,F}\n",
    "\n",
    "We get that activating C leads to the most nodes active, so it is the most influentional node."
   ]
  }
 ],
 "metadata": {
  "kernelspec": {
   "display_name": "Python 3",
   "language": "python",
   "name": "python3"
  },
  "language_info": {
   "codemirror_mode": {
    "name": "ipython",
    "version": 3
   },
   "file_extension": ".py",
   "mimetype": "text/x-python",
   "name": "python",
   "nbconvert_exporter": "python",
   "pygments_lexer": "ipython3",
   "version": "3.7.6"
  }
 },
 "nbformat": 4,
 "nbformat_minor": 4
}
